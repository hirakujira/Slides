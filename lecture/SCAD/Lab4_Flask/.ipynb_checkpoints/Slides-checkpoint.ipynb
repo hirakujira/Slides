{
 "cells": [
  {
   "cell_type": "markdown",
   "metadata": {
    "slideshow": {
     "slide_type": "slide"
    }
   },
   "source": [
    "# Social Computing Application Design Lab 4\n",
    "### Python & Flask"
   ]
  },
  {
   "cell_type": "markdown",
   "metadata": {
    "slideshow": {
     "slide_type": "slide"
    }
   },
   "source": [
    "## Web Programming\n",
    "#### More than just HTML, JavaScript and CSS"
   ]
  },
  {
   "cell_type": "markdown",
   "metadata": {
    "slideshow": {
     "slide_type": "subslide"
    }
   },
   "source": [
    "## Web Application\n",
    "- Web server (apache2, nginx ...)\n",
    "- Frontend (HTML, JavaScript, CSS)\n",
    "- Backend (PHP, Python ...)\n",
    "- Database (MySQL, PostgreSQL ...)"
   ]
  },
  {
   "cell_type": "markdown",
   "metadata": {
    "slideshow": {
     "slide_type": "subslide"
    }
   },
   "source": [
    "## Web Framework\n",
    "\n",
    "A Web framework is a collection of packages or modules which allow developers to write Web applications or services without having to handle low-level details, such as protocols, sockets or process / thread management.\n",
    "\n",
    "Generally, frameworks provide support for a number of activities such as interpreting requests (getting form parameters, handling cookies and sessions), producing responses (presenting data as HTML or in other formats), storing data persistently, and so on.\n",
    "\n",
    "http://wiki.python.org/moin/WebFrameworks"
   ]
  },
  {
   "cell_type": "markdown",
   "metadata": {
    "slideshow": {
     "slide_type": "subslide"
    }
   },
   "source": [
    "## List of Python Web Frameworks\n",
    "#### Full stack framework:\n",
    "- Django   [https://www.djangoproject.com/](https://www.djangoproject.com/)\n",
    "- Web2py   [http://www.web2py.com/](http://www.web2py.com/)\n",
    "\n",
    "#### Micro framework:\n",
    "- Flask   [http://flask.pocoo.org](http://flask.pocoo.org)\n",
    "- Pyramid   [http://www.pylonsproject.org/](http://www.pylonsproject.org/)"
   ]
  },
  {
   "cell_type": "markdown",
   "metadata": {
    "slideshow": {
     "slide_type": "slide"
    }
   },
   "source": [
    "## Install Flask\n",
    "#### Install flask via pip:\n",
    "`pip3 install flask`\n",
    "\n",
    "#### Manual install\n",
    "[http://pypi.python.org/packages/source/F/Flask/Flask-0.10.1.tar.gz](http://pypi.python.org/packages/source/F/Flask/Flask-0.10.1.tar.gz)"
   ]
  },
  {
   "cell_type": "markdown",
   "metadata": {
    "slideshow": {
     "slide_type": "subslide"
    }
   },
   "source": [
    "## A Minimal Flask Application"
   ]
  },
  {
   "cell_type": "code",
   "execution_count": null,
   "metadata": {
    "collapsed": true,
    "slideshow": {
     "slide_type": "fragment"
    }
   },
   "outputs": [],
   "source": [
    "from flask import Flask\n",
    "#Construct a Flask instance\n",
    "app = Flask(__name__)\n",
    "\n",
    "#Python decorator: tell Flask what URL should trigger the follow function\n",
    "@app.route(\"/\")\n",
    "\n",
    "#Function: things you want to do\n",
    "def hello_world():\n",
    "    return \"Hello World\";\n",
    "\n",
    "#Making sure that the app only runs if the script is executed directly\n",
    "#from the Python interpreter and not used as imported\n",
    "if __name__ == \"__main__\":\n",
    "    app.run()"
   ]
  },
  {
   "cell_type": "markdown",
   "metadata": {
    "slideshow": {
     "slide_type": "fragment"
    }
   },
   "source": [
    "`python3 flask_demo.py`"
   ]
  },
  {
   "cell_type": "markdown",
   "metadata": {
    "slideshow": {
     "slide_type": "subslide"
    }
   },
   "source": [
    "## Result\n",
    "![SimpleDemo.jpg](SimpleDemo.jpg)"
   ]
  },
  {
   "cell_type": "markdown",
   "metadata": {
    "slideshow": {
     "slide_type": "subslide"
    }
   },
   "source": [
    "## Another Flask Application\n",
    "Your files hierarchy should look the the figure below. Flask will look for the templates in the 'templates' folder\n",
    "![FolderAndFIles.jpg](FolderAndFIles.jpg)"
   ]
  },
  {
   "cell_type": "markdown",
   "metadata": {
    "slideshow": {
     "slide_type": "subslide"
    }
   },
   "source": [
    "## Create a web application with flask template"
   ]
  },
  {
   "cell_type": "code",
   "execution_count": null,
   "metadata": {
    "collapsed": true,
    "slideshow": {
     "slide_type": "fragment"
    }
   },
   "outputs": [],
   "source": [
    "from flask import Flask\n",
    "from flask import render_template\n",
    "app = Flask(__name__)\n",
    "\n",
    "@app.route(\"/\") #When the URL pattern is \"/\"\n",
    "def index():\n",
    "    return render_template('index.html')\n",
    "\n",
    "@app.route('/hello/')\n",
    "@app.route('/hello/<name>/')  #What to do then the URL pattern is \"/hello/<name>\"\n",
    "def hello_view(name=None):    #Default value of name is None (null)\n",
    "    return render_template('hello.html', name=name)\n",
    "\n",
    "if __name__ == \"__main__\":\n",
    "    app.run()"
   ]
  },
  {
   "cell_type": "markdown",
   "metadata": {
    "slideshow": {
     "slide_type": "subslide"
    }
   },
   "source": [
    "## HTML Template\n",
    "Template syntax documentation: [http://jinja.pocoo.org/docs/templates/](http://jinja.pocoo.org/docs/templates/)\n",
    "![hello_html.jpg](hello_html.jpg)"
   ]
  },
  {
   "cell_type": "markdown",
   "metadata": {
    "slideshow": {
     "slide_type": "subslide"
    }
   },
   "source": [
    "## Result (with name)\n",
    "http://127.0.0.1:5000/hello/Hiraku\n",
    "![HelloDemo.jpg](HelloDemo.jpg)"
   ]
  },
  {
   "cell_type": "markdown",
   "metadata": {
    "slideshow": {
     "slide_type": "subslide"
    }
   },
   "source": [
    "## Result (without name)\n",
    "\n",
    "http://127.0.0.1:5000/hello/\n",
    "![HelloDemo2.jpg](HelloDemo2.jpg)"
   ]
  },
  {
   "cell_type": "markdown",
   "metadata": {
    "slideshow": {
     "slide_type": "slide"
    }
   },
   "source": [
    "## Practice\n",
    "\n",
    "Build a very simple web application that users can create a pie chart whih entering the value of the items.\n",
    "\n",
    "URL Format: http://127.0.0.1:5000/chart/A=123&B=456\n",
    "\n",
    "Download `chart.html`, `chart.js` and `chart.css` from iLMS\n",
    "\n",
    "![Chart.jpg](Chart.jpg)"
   ]
  },
  {
   "cell_type": "markdown",
   "metadata": {
    "slideshow": {
     "slide_type": "subslide"
    }
   },
   "source": [
    "## Hints\n",
    "* Use flask to build your web application\n",
    "\n",
    "* The HTML, JavaScript and CSS template are ready to use, you only need to write the flask application and replace the variable in chart.html\n",
    "\n",
    "* Some useful links\n",
    "\n",
    "    * http://flask.pocoo.org/docs/quickstart/\n",
    "    * http://jinja.pocoo.org/docs/templates/\n",
    "    * http://www.chartjs.org/docs/"
   ]
  },
  {
   "cell_type": "markdown",
   "metadata": {
    "slideshow": {
     "slide_type": "slide"
    }
   },
   "source": [
    "## Reminder \n",
    "\n",
    "* Submit the group member list (3-4 people per group) for final project by this Thursday (Oct. 22). Email the list to [scadcourse@gmail.com](mailto:scadcourse@gmail.com)\n",
    "\n",
    "* Assignment 2 is due this Sunday (Oct. 25)"
   ]
  }
 ],
 "metadata": {
  "celltoolbar": "Slideshow",
  "kernelspec": {
   "display_name": "Python 3",
   "language": "python",
   "name": "python3"
  },
  "language_info": {
   "codemirror_mode": {
    "name": "ipython",
    "version": 3
   },
   "file_extension": ".py",
   "mimetype": "text/x-python",
   "name": "python",
   "nbconvert_exporter": "python",
   "pygments_lexer": "ipython3",
   "version": "3.5.0"
  }
 },
 "nbformat": 4,
 "nbformat_minor": 0
}
