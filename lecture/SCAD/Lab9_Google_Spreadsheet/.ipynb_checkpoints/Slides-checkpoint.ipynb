{
 "cells": [
  {
   "cell_type": "markdown",
   "metadata": {
    "slideshow": {
     "slide_type": "slide"
    }
   },
   "source": [
    "# Social Computing Application Design Lab 9\n",
    "\n",
    "### Google Spreadsheet"
   ]
  },
  {
   "cell_type": "markdown",
   "metadata": {
    "slideshow": {
     "slide_type": "slide"
    }
   },
   "source": [
    "## Adventages of using Google Spreadsheet \n",
    "\n",
    "* Don't need to host your own database\n",
    "* Integrated with Google form\n",
    "* Can cooperate with other easily"
   ]
  },
  {
   "cell_type": "markdown",
   "metadata": {
    "slideshow": {
     "slide_type": "subslide"
    }
   },
   "source": [
    "## In these cases, it's better to use database\n",
    "\n",
    "* There're so many records / data\n",
    "* You don't want to get all data in every request\n",
    "* Search specific records from your data set"
   ]
  },
  {
   "cell_type": "markdown",
   "metadata": {
    "slideshow": {
     "slide_type": "slide"
    }
   },
   "source": [
    "## Create a Simple Spreadsheet\n",
    "\n",
    "![sheet1.jpg](sheet1.jpg)"
   ]
  },
  {
   "cell_type": "markdown",
   "metadata": {
    "slideshow": {
     "slide_type": "subslide"
    }
   },
   "source": [
    "## Publish Your Spreadsheet\n",
    "\n",
    "![sheet2.jpg](sheet2.jpg)"
   ]
  },
  {
   "cell_type": "markdown",
   "metadata": {
    "slideshow": {
     "slide_type": "subslide"
    }
   },
   "source": [
    "## Publish Your Spreadsheet (cont.)\n",
    "\n",
    "![sheet3.jpg](sheet3.jpg)"
   ]
  },
  {
   "cell_type": "markdown",
   "metadata": {
    "slideshow": {
     "slide_type": "subslide"
    }
   },
   "source": [
    "## Get the Key of Spreadsheet\n",
    "\n",
    "![sheet4.jpg](sheet4.jpg)"
   ]
  },
  {
   "cell_type": "markdown",
   "metadata": {
    "slideshow": {
     "slide_type": "subslide"
    }
   },
   "source": [
    "## Access the Data as JSON/XML(RSS)\n",
    "\n",
    "XML:\n",
    "`https://spreadsheets.google.com/feeds/cells/<key>/1/public/values`\n",
    "\n",
    "JSON:\n",
    "`https://spreadsheets.google.com/feeds/cells/<key>/1/public/values?alt=json-in-script`"
   ]
  },
  {
   "cell_type": "markdown",
   "metadata": {
    "slideshow": {
     "slide_type": "subslide"
    }
   },
   "source": [
    "## JSON Data\n",
    "\n",
    "Get data in `Object -> feed -> entry`\n",
    "\n",
    "Get row & col number with data in `entry -> gs$cell`\n",
    "\n",
    "![sheet5.jpg](sheet5.jpg)"
   ]
  },
  {
   "cell_type": "markdown",
   "metadata": {
    "slideshow": {
     "slide_type": "subslide"
    }
   },
   "source": [
    "## JSON Callback\n",
    "\n",
    "`https://spreadsheets.google.com/feeds/cells/<key>/1/public/values?alt=json-in-script&callback=?`"
   ]
  },
  {
   "cell_type": "markdown",
   "metadata": {
    "slideshow": {
     "slide_type": "slide"
    }
   },
   "source": [
    "## Get JSON with jQuery\n",
    "\n",
    "\n",
    "    $.getJSON(url, function(data) { \n",
    "        //DO COOL THINGS HERE\n",
    "    }"
   ]
  },
  {
   "cell_type": "markdown",
   "metadata": {
    "slideshow": {
     "slide_type": "subslide"
    }
   },
   "source": [
    "## However, it costs few seconds to get JSON Data\n",
    "\n",
    "    var result;\n",
    "    $.getJSON(url, function(data) { \n",
    "        result = data;\n",
    "    }\n",
    "    console.log(data); //undefined"
   ]
  },
  {
   "cell_type": "markdown",
   "metadata": {
    "collapsed": true,
    "slideshow": {
     "slide_type": "subslide"
    }
   },
   "source": [
    "## Do it later\n",
    "\n",
    "    var result;\n",
    "    $.getJSON(url, function(data) { \n",
    "        result = data;\n",
    "    }.then(function(){\n",
    "        console.log(data);\n",
    "    });"
   ]
  },
  {
   "cell_type": "markdown",
   "metadata": {
    "slideshow": {
     "slide_type": "slide"
    }
   },
   "source": [
    "## Practice\n",
    "\n",
    "Make a simple webpage that can suggest the restaurant near by NTHU campus.\n",
    "\n",
    "Upload your code and screenshot to iLMS by 3:30PM\n",
    "\n",
    "![Practice1.jpg](Practice1.jpg)"
   ]
  },
  {
   "cell_type": "markdown",
   "metadata": {
    "collapsed": true,
    "slideshow": {
     "slide_type": "subslide"
    }
   },
   "source": [
    "#### Click the icon to show random result\n",
    "\n",
    "![Practice2.jpg](Practice2.jpg)"
   ]
  },
  {
   "cell_type": "markdown",
   "metadata": {
    "slideshow": {
     "slide_type": "subslide"
    }
   },
   "source": [
    "## Hints\n",
    "\n",
    "* You can download the web application from iLMS\n",
    "* All you need to do is editing utils.js and make your own sheet.\n",
    "* Search comments with \"[Lab 9]\" prefix, and follow the instruction.\n",
    "* Flask is not required."
   ]
  }
 ],
 "metadata": {
  "celltoolbar": "Slideshow",
  "kernelspec": {
   "display_name": "Python 3",
   "language": "python",
   "name": "python3"
  },
  "language_info": {
   "codemirror_mode": {
    "name": "ipython",
    "version": 3
   },
   "file_extension": ".py",
   "mimetype": "text/x-python",
   "name": "python",
   "nbconvert_exporter": "python",
   "pygments_lexer": "ipython3",
   "version": "3.5.0"
  }
 },
 "nbformat": 4,
 "nbformat_minor": 0
}
