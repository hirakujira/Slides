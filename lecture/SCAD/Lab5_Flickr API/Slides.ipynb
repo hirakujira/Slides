{
 "cells": [
  {
   "cell_type": "markdown",
   "metadata": {
    "slideshow": {
     "slide_type": "slide"
    }
   },
   "source": [
    "# Social Computing Application Design Lab 5\n",
    "### Flickr API"
   ]
  },
  {
   "cell_type": "markdown",
   "metadata": {
    "slideshow": {
     "slide_type": "slide"
    }
   },
   "source": [
    "![flickr_logo.jpg](flickr_logo.jpg)"
   ]
  },
  {
   "cell_type": "markdown",
   "metadata": {
    "slideshow": {
     "slide_type": "subslide"
    }
   },
   "source": [
    "## Create a Account of Flickr\n",
    "You can simply use Yahoo account to login or just create a new account.\n",
    "\n",
    "![login.jpg](login.jpg)"
   ]
  },
  {
   "cell_type": "markdown",
   "metadata": {
    "slideshow": {
     "slide_type": "subslide"
    }
   },
   "source": [
    "## Create an App for Flickr\n",
    "\n",
    "![developer.jpg](developer.jpg)"
   ]
  },
  {
   "cell_type": "markdown",
   "metadata": {
    "slideshow": {
     "slide_type": "subslide"
    }
   },
   "source": [
    "## Create an App for Flickr\n",
    "\n",
    "![API.jpg](API.jpg)"
   ]
  },
  {
   "cell_type": "markdown",
   "metadata": {
    "slideshow": {
     "slide_type": "subslide"
    }
   },
   "source": [
    "## Create an App for Flickr\n",
    "\n",
    "![RequestAPI.jpg](RequestAPI.jpg)"
   ]
  },
  {
   "cell_type": "markdown",
   "metadata": {
    "slideshow": {
     "slide_type": "subslide"
    }
   },
   "source": [
    "## Apply an API Key\n",
    "\n",
    "![ApplyAPIKey.jpg](ApplyAPIKey.jpg)"
   ]
  },
  {
   "cell_type": "markdown",
   "metadata": {
    "slideshow": {
     "slide_type": "subslide"
    }
   },
   "source": [
    "## Apply a Non-Commercial API Key\n",
    "\n",
    "![NonCommercial.jpg](NonCommercial.jpg)"
   ]
  },
  {
   "cell_type": "markdown",
   "metadata": {
    "slideshow": {
     "slide_type": "subslide"
    }
   },
   "source": [
    "## Enter the App Name and Description\n",
    "\n",
    "![ApplyForm.jpg](ApplyForm.jpg)"
   ]
  },
  {
   "cell_type": "markdown",
   "metadata": {
    "slideshow": {
     "slide_type": "subslide"
    }
   },
   "source": [
    "## Get Your API Key and Secret\n",
    "\n",
    "![KeyAndSecret.jpg](KeyAndSecret.jpg)"
   ]
  },
  {
   "cell_type": "markdown",
   "metadata": {
    "collapsed": true,
    "slideshow": {
     "slide_type": "slide"
    }
   },
   "source": [
    "## RESTful API\n",
    "\n",
    "#### A RESTful (Representational state transfer) web API is a web service implemented using HTTP and the principles of REST. It is a collection of resources.\n",
    "\n",
    "#### http://en.wikipedia.org/wiki/Representational_state_transfer"
   ]
  },
  {
   "cell_type": "markdown",
   "metadata": {
    "slideshow": {
     "slide_type": "subslide"
    }
   },
   "source": [
    "## Flickr RESTful API\n",
    "\n",
    "https://api.flickr.com/services/rest/?method={API_Method}&apikey={API_Key}&name={Value}&format=json&jsoncallback=?\n",
    "\n",
    "* https://api.flickr.com/services/rest is the base URL of Flickr RESTful service\n",
    "\n",
    "* method : Specifies the method. https://www.flickr.com/services/api/\n",
    "\n",
    "* format : Specifies the return format, default is XML. In here we use JSON\n",
    "\n",
    "* api_key : Your API key\n",
    "\n",
    "* name : Specifies the parameter\n",
    "\n",
    "* jsoncallback=? : enable to load a JSON data object from another domain."
   ]
  },
  {
   "cell_type": "markdown",
   "metadata": {
    "slideshow": {
     "slide_type": "subslide"
    }
   },
   "source": [
    "## Example\n",
    "\n",
    "https://api.flickr.com/services/rest/?method=flickr.photos.search&api_key={API_Key}&format=json&tags=nthu&jsoncallback=?\n",
    "\n",
    "Chrome Plugin : [JSONView](https://chrome.google.com/webstore/detail/jsonview/chklaanhfefbnpoihckbnefhakgolnmc/related?hl=zh-TW)\n",
    "\n",
    "![JSONResult.jpg](JSONResult.jpg)"
   ]
  },
  {
   "cell_type": "markdown",
   "metadata": {
    "slideshow": {
     "slide_type": "slide"
    }
   },
   "source": [
    "## Load JSON\n",
    "\n",
    "There are many ways to load JSON data\n",
    "\n",
    "Load JSON easily by jQuery\n",
    "\n",
    "1. Include the script in the header of your web page\n",
    "\n",
    "        <script src=\"http://code.jquery.com/jquery-1.11.3.min.js\"></script>\n",
    "<br>\n",
    "2. Process JSON data by $.getJSON function\n",
    "\n",
    "        $.getJSON(url, function(data) { \n",
    "            //process the JSON...\n",
    "        });"
   ]
  },
  {
   "cell_type": "markdown",
   "metadata": {
    "collapsed": true,
    "slideshow": {
     "slide_type": "subslide"
    }
   },
   "source": [
    "## Sample Code\n",
    "<br>\n",
    "\n",
    "    var output = '';\n",
    "    var APIKey = 'YOUR_API_KEY';\n",
    "\tvar flickrAPI = 'https://api.flickr.com/services/rest/?method=flickr.photos.search&format=json&api_key='+ APIKey + '&tags=nthu&jsoncallback=?';\n",
    "    \n",
    "\t$.getJSON(flickrAPI, function(data) { \n",
    "\t\tif (data.stat == 'ok') {\n",
    "\t\t\tresult = data.photos.photo;\n",
    "\t\t\tfor (var i = 0; i < result.length; i++) {\n",
    "\t\t\t\toutput += \"<li>\" + result[i].id + \"</li>\"; \n",
    "\t\t\t}\n",
    "\t\t\tdocument.getElementById(\"list\").innerHTML = output;\n",
    "\t\t}\n",
    "\t\telse {\n",
    "\t\t\tresult = null;\n",
    "\t\t} \n",
    "\t});\t"
   ]
  },
  {
   "cell_type": "markdown",
   "metadata": {
    "slideshow": {
     "slide_type": "subslide"
    }
   },
   "source": [
    "## Result\n",
    "\n",
    "![ImageIDs.jpg](ImageIDs.jpg)"
   ]
  },
  {
   "cell_type": "markdown",
   "metadata": {
    "slideshow": {
     "slide_type": "subslide"
    }
   },
   "source": [
    "## Flickr Photo URL\n",
    "\n",
    "http://farm{farm-id}.staticflickr.com/{server-id}/{id}_{secret}.jpg\n",
    "\n",
    "![PhotoSpec.jpg](PhotoSpec.jpg)\n",
    "\n",
    "http://farm6.staticflickr.com/5620/21435304795_8c27a64ab6.jpg\n",
    "\n",
    "Photo Source URLs : https://www.flickr.com/services/api/misc.urls.html"
   ]
  },
  {
   "cell_type": "markdown",
   "metadata": {
    "slideshow": {
     "slide_type": "slide"
    }
   },
   "source": [
    "## Practice\n",
    "\n",
    "Build a very simple web page that users can search photos by tags.\n",
    "\n",
    "Upload your screenshot to iLMS by 11:59PM\n",
    "\n",
    "![cat.jpg](cat.jpg)"
   ]
  },
  {
   "cell_type": "markdown",
   "metadata": {
    "slideshow": {
     "slide_type": "subslide"
    }
   },
   "source": [
    "## Hints\n",
    "* You don't need to write any python code in this practice\n",
    "\n",
    "* Use jQuery"
   ]
  }
 ],
 "metadata": {
  "celltoolbar": "Slideshow",
  "kernelspec": {
   "display_name": "Python 3",
   "language": "python",
   "name": "python3"
  },
  "language_info": {
   "codemirror_mode": {
    "name": "ipython",
    "version": 3
   },
   "file_extension": ".py",
   "mimetype": "text/x-python",
   "name": "python",
   "nbconvert_exporter": "python",
   "pygments_lexer": "ipython3",
   "version": "3.5.0"
  }
 },
 "nbformat": 4,
 "nbformat_minor": 0
}
