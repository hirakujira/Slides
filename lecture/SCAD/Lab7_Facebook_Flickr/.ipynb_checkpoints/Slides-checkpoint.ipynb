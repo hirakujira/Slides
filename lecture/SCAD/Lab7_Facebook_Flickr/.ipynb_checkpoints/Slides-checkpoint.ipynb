{
 "cells": [
  {
   "cell_type": "markdown",
   "metadata": {
    "slideshow": {
     "slide_type": "slide"
    }
   },
   "source": [
    "# Social Computing Application Design Lab 7\n",
    "### Facebook + Flickr API"
   ]
  },
  {
   "cell_type": "markdown",
   "metadata": {
    "slideshow": {
     "slide_type": "slide"
    }
   },
   "source": [
    "## Review\n",
    "\n",
    "In lab 5, we used Flickr API to search photos with specific tag.\n",
    "\n",
    "In lab 6, we got users' profile with Facebook API."
   ]
  },
  {
   "cell_type": "markdown",
   "metadata": {
    "slideshow": {
     "slide_type": "fragment"
    }
   },
   "source": [
    "Today, we will try to post photos from Flickr to your Facebook timeline."
   ]
  },
  {
   "cell_type": "markdown",
   "metadata": {
    "slideshow": {
     "slide_type": "slide"
    }
   },
   "source": [
    "## Get More Permissions\n",
    "\n",
    "[Graph API Explorer](https://developers.facebook.com/tools/explorer/)\n",
    "\n",
    "![Graph_API_Explorer1.jpg](Graph_API_Explorer1.jpg)"
   ]
  },
  {
   "cell_type": "markdown",
   "metadata": {
    "slideshow": {
     "slide_type": "subslide"
    }
   },
   "source": [
    "## Choose Your Facebook App\n",
    "\n",
    "![Graph_API_Explorer2.jpg](Graph_API_Explorer2.jpg)"
   ]
  },
  {
   "cell_type": "markdown",
   "metadata": {
    "slideshow": {
     "slide_type": "subslide"
    }
   },
   "source": [
    "## Get User Access Token\n",
    "\n",
    "![Graph_API_Explorer3.jpg](Graph_API_Explorer3.jpg)"
   ]
  },
  {
   "cell_type": "markdown",
   "metadata": {
    "slideshow": {
     "slide_type": "subslide"
    }
   },
   "source": [
    "## Publish Actions\n",
    "\n",
    "![Graph_API_Explorer4.jpg](Graph_API_Explorer4.jpg)"
   ]
  },
  {
   "cell_type": "markdown",
   "metadata": {
    "slideshow": {
     "slide_type": "subslide"
    }
   },
   "source": [
    "## Share Post with ...\n",
    "\n",
    "![Graph_API_Explorer5.jpg](Graph_API_Explorer5.jpg)"
   ]
  },
  {
   "cell_type": "markdown",
   "metadata": {
    "slideshow": {
     "slide_type": "subslide"
    }
   },
   "source": [
    "## Let's Try to Post Something\n",
    "\n",
    "![Graph_API_Explorer6.jpg](Graph_API_Explorer6.jpg)"
   ]
  },
  {
   "cell_type": "markdown",
   "metadata": {
    "slideshow": {
     "slide_type": "subslide"
    }
   },
   "source": [
    "/me/feed : Post to your timeline\n",
    "\n",
    "message : text you want to post\n",
    "\n",
    "![Graph_API_Explorer7.jpg](Graph_API_Explorer7.jpg)\n",
    "\n",
    "\n",
    "More info : https://developers.facebook.com/docs/graph-api/reference/v2.5/user/feed"
   ]
  },
  {
   "cell_type": "markdown",
   "metadata": {
    "collapsed": true,
    "slideshow": {
     "slide_type": "subslide"
    }
   },
   "source": [
    "## Result\n",
    "\n",
    "![Facebook_Timeline_1.jpg](Facebook_Timeline_1.jpg)"
   ]
  },
  {
   "cell_type": "markdown",
   "metadata": {
    "slideshow": {
     "slide_type": "subslide"
    }
   },
   "source": [
    "## Regular Method\n",
    "\n",
    "Create a button to ask for permission\n",
    "\n",
    "    <div class=\"fb-login-button\" data-max-rows=\"1\" data-size=\"xlarge\" data-show-faces=\"false\" data-auto-logout-link=\"false\" onlogin=\"\" scope=\"publish_actions\" ></div>"
   ]
  },
  {
   "cell_type": "markdown",
   "metadata": {
    "slideshow": {
     "slide_type": "slide"
    }
   },
   "source": [
    "## Post From Your Web Application\n",
    "\n",
    "---    \n",
    "    function statusChangeCallback(response) {\n",
    "        if (response.status === 'connected') {\n",
    "          // Logged into your app and Facebook.\n",
    "          postSomeText();\n",
    "        } else if (response.status === 'not_authorized') {\n",
    "          alert('Please log ' + 'into this app.');\n",
    "        } else {\n",
    "          alert('Please log ' + 'into Facebook.')\n",
    "      }\n",
    "    }"
   ]
  },
  {
   "cell_type": "markdown",
   "metadata": {
    "slideshow": {
     "slide_type": "subslide"
    }
   },
   "source": [
    "    function postSomeText() {\n",
    "      FB.api('/me/feed', 'post', { message: 'It works!' }, function(response) {\n",
    "        if (!response || response.error) {\n",
    "          alert('Error occured');\n",
    "        } else {\n",
    "          alert('Post Successed! ID: ' + response.id);\n",
    "        }\n",
    "      });\n",
    "    } "
   ]
  },
  {
   "cell_type": "markdown",
   "metadata": {
    "slideshow": {
     "slide_type": "slide"
    }
   },
   "source": [
    "## Practice\n",
    "\n",
    "Search Flickr photos with specific tag, in the page of result images, click an image to post it on your Facebook timeline.\n",
    "\n",
    "Upload your screenshot to iLMS by 11:59PM\n",
    "\n",
    "#### Search \n",
    "\n",
    "![Practice_1.jpg](Practice_1.jpg)"
   ]
  },
  {
   "cell_type": "markdown",
   "metadata": {
    "collapsed": true,
    "slideshow": {
     "slide_type": "subslide"
    }
   },
   "source": [
    "#### Click any image on the page\n",
    "\n",
    "![Practice_2.jpg](Practice_2.jpg)"
   ]
  },
  {
   "cell_type": "markdown",
   "metadata": {
    "slideshow": {
     "slide_type": "subslide"
    }
   },
   "source": [
    "#### Post image with it's title on your timeline\n",
    "\n",
    "![Practice_3.jpg](Practice_3.jpg)"
   ]
  },
  {
   "cell_type": "markdown",
   "metadata": {
    "slideshow": {
     "slide_type": "subslide"
    }
   },
   "source": [
    "## Hints\n",
    "\n",
    "* You can download the web application from iLMS\n",
    "* All you need to do is editing flickr.js\n",
    "* Search comments with \"[Lab 7]\" prefix, and follow the instruction."
   ]
  }
 ],
 "metadata": {
  "celltoolbar": "Slideshow",
  "kernelspec": {
   "display_name": "Python 3",
   "language": "python",
   "name": "python3"
  },
  "language_info": {
   "codemirror_mode": {
    "name": "ipython",
    "version": 3
   },
   "file_extension": ".py",
   "mimetype": "text/x-python",
   "name": "python",
   "nbconvert_exporter": "python",
   "pygments_lexer": "ipython3",
   "version": "3.5.0"
  }
 },
 "nbformat": 4,
 "nbformat_minor": 0
}
